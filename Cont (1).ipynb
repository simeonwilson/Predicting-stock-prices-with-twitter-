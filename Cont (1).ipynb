{
 "cells": [
  {
   "cell_type": "markdown",
   "metadata": {},
   "source": [
    "# Cont. Project. "
   ]
  },
  {
   "cell_type": "code",
   "execution_count": 516,
   "metadata": {},
   "outputs": [],
   "source": [
    "#Libraries and packages used for this Homework\n",
    "import pandas as pd\n",
    "from string import ascii_letters\n",
    "import numpy as np\n",
    "import seaborn as sns\n",
    "import matplotlib.pyplot as plt\n",
    "import math \n",
    "import sklearn\n",
    "from sklearn.linear_model import LinearRegression\n",
    "from sklearn.metrics import mean_squared_error, r2_score\n",
    "from sklearn.ensemble import RandomForestClassifier\n",
    "from datetime import datetime\n",
    "from sklearn.feature_selection import SelectKBest\n",
    "from sklearn.feature_selection import chi2\n",
    "from sklearn.naive_bayes import GaussianNB\n",
    "from sklearn.metrics import confusion_matrix\n",
    "from sklearn.metrics import average_precision_score\n",
    "from sklearn import metrics\n",
    "from sklearn.metrics import precision_recall_curve\n",
    "from sklearn.metrics import recall_score\n",
    "from sklearn.metrics import precision_score\n",
    "from sklearn.metrics import f1_score\n",
    "from sklearn.feature_selection import RFE\n",
    "from sklearn.linear_model import LogisticRegressionCV"
   ]
  },
  {
   "cell_type": "code",
   "execution_count": 212,
   "metadata": {},
   "outputs": [],
   "source": [
    "#Preparing data for Machine Learning Analysis\n",
    "df0 = pd.read_csv(r\"AXP_clean.csv\")[5:]\n",
    "df1 = pd.read_csv(r\"BA_clean.csv\")[5:]\n",
    "df2 = pd.read_csv(r\"CAT_clean.csv\")[5:]\n",
    "df3 = pd.read_csv(r\"CSCO_clean.csv\")[5:]\n",
    "df4 = pd.read_csv(r\"CVX_clean.csv\")[5:]\n",
    "df5 = pd.read_csv(r\"DD_clean.csv\")[5:]\n",
    "df6 = pd.read_csv(r\"DIS_clean.csv\")[5:]\n",
    "df7 = pd.read_csv(r\"FB_clean.csv\")[5:]\n",
    "df8 = pd.read_csv(r\"GE_clean.csv\")[5:]\n",
    "df9 = pd.read_csv(r\"GS_clean.csv\")[5:]\n",
    "df10 = pd.read_csv(r\"HD_clean.csv\")[5:]\n",
    "df11 = pd.read_csv(r\"IBM_clean.csv\")[5:]\n",
    "df12 = pd.read_csv(r\"INTC_clean.csv\")[5:]\n",
    "df13 = pd.read_csv(r\"JNJ_clean.csv\")[5:]\n",
    "df14 = pd.read_csv(r\"JPM_clean.csv\")[5:]\n",
    "df15 = pd.read_csv(r\"KO_clean.csv\")[5:]\n",
    "df16 = pd.read_csv(r\"MCD_clean.csv\")[5:]\n",
    "df17 = pd.read_csv(r\"MMM_clean.csv\")[5:]\n",
    "df18 = pd.read_csv(r\"MRK_clean.csv\")[5:]\n",
    "df19 = pd.read_csv(r\"MSFT_clean.csv\")[5:]\n",
    "df20 = pd.read_csv(r\"NKE_clean.csv\")[5:]\n",
    "df21 = pd.read_csv(r\"PFE_clean.csv\")[5:]\n",
    "df22 = pd.read_csv(r\"PG_clean.csv\")[5:]\n",
    "df23 = pd.read_csv(r\"QQQ_clean.csv\")[5:]\n",
    "df24 = pd.read_csv(r\"SPY_clean.csv\")[5:]\n",
    "df25 = pd.read_csv(r\"TRV_clean.csv\")[5:]\n",
    "df26 = pd.read_csv(r\"UNH_clean.csv\")[5:]\n",
    "df27 = pd.read_csv(r\"UTX_clean.csv\")[5:]\n",
    "df28 = pd.read_csv(r\"V_clean.csv\")[5:]\n",
    "df29 = pd.read_csv(r\"VZ_clean.csv\")[5:]\n",
    "df30 = pd.read_csv(r\"WMT_clean.csv\")[5:]\n",
    "df31 = pd.read_csv(r\"XOM_clean.csv\")[5:]"
   ]
  },
  {
   "cell_type": "code",
   "execution_count": 216,
   "metadata": {},
   "outputs": [],
   "source": [
    "frames1 = [df0, df1, df2, df3, df4, df5, df6, df7, df8, df9, df10, \n",
    "           df11, df12, df13, df14, df15, df16, df17, df18, df19, df20, \n",
    "           df21, df22, df23, df24, df25, df26, df27, df28, df29, df30, df31]"
   ]
  },
  {
   "cell_type": "code",
   "execution_count": 550,
   "metadata": {},
   "outputs": [],
   "source": [
    "df0 = pd.read_csv(r\"AXP_clean.csv\")[5:]"
   ]
  },
  {
   "cell_type": "code",
   "execution_count": 551,
   "metadata": {},
   "outputs": [],
   "source": [
    "df=df0"
   ]
  },
  {
   "cell_type": "code",
   "execution_count": 552,
   "metadata": {},
   "outputs": [],
   "source": [
    "df['Date'] = pd.to_datetime(df[\"Date\"])\n",
    "df = df.set_index(df['Date'])"
   ]
  },
  {
   "cell_type": "markdown",
   "metadata": {},
   "source": [
    "### Part e) Chi-Squared Statistics"
   ]
  },
  {
   "cell_type": "code",
   "execution_count": 553,
   "metadata": {},
   "outputs": [],
   "source": [
    "#Create 3 and 5 days returns bull and bear variable\n",
    "\n",
    "df['3_bull_bear'] = np.where(df['3_day_return']>=0, \"Bull_3\", \"Bear_3\")\n",
    "df['5_bull_bear'] = np.where(df['5_day_return']>=0, \"Bull_5\", \"Bear_5\")\n",
    "\n",
    "#Creating dummy variable for Class in Training set\n",
    "dummy_3=pd.get_dummies(df[\"3_bull_bear\"])\n",
    "dummy_3.head()\n",
    "df=df.merge(dummy_3, left_index=True, right_index=True)\n",
    "\n",
    "dummy_5=pd.get_dummies(df[\"5_bull_bear\"])\n",
    "dummy_5.head()\n",
    "df=df.merge(dummy_5, left_index=True, right_index=True)\n",
    "\n",
    "x= df.drop([\"Bull_3\",\"Bear_3\",\"Bull_5\",\"Bear_5\",'3_bull_bear','5_bull_bear',\"Date\",\"OPEN\",\"HIGH\",\"LOW\",\"VOLUME\",\"CLOSE\",\"3_day_return\",\"5_day_return\",\"tot_bull\",\"tot_bear\",\"tot_tweet\",\"tweets\",\"polarity\",\"roll_avg\",\"percent_change\",\"mv10\",\"tweets_no_stop\",\"bodyn\"], axis=1)          \n",
    "y_3=pd.DataFrame(df[\"Bull_3\"])\n",
    "y_5=pd.DataFrame(df[\"Bull_5\"])"
   ]
  },
  {
   "cell_type": "code",
   "execution_count": 554,
   "metadata": {},
   "outputs": [],
   "source": [
    "#1,000 features for 3 days returns\n",
    "X_3=SelectKBest(chi2,k=1000).fit_transform(x,y_3)\n",
    "X_3=pd.DataFrame(X_3)\n",
    "\n",
    "#1,000 features for 5 days returns\n",
    "X_5=SelectKBest(chi2,k=1000).fit_transform(x,y_5)\n",
    "X_5=pd.DataFrame(X_5)"
   ]
  },
  {
   "cell_type": "code",
   "execution_count": 555,
   "metadata": {},
   "outputs": [
    {
     "data": {
      "text/html": [
       "<div>\n",
       "<style scoped>\n",
       "    .dataframe tbody tr th:only-of-type {\n",
       "        vertical-align: middle;\n",
       "    }\n",
       "\n",
       "    .dataframe tbody tr th {\n",
       "        vertical-align: top;\n",
       "    }\n",
       "\n",
       "    .dataframe thead th {\n",
       "        text-align: right;\n",
       "    }\n",
       "</style>\n",
       "<table border=\"1\" class=\"dataframe\">\n",
       "  <thead>\n",
       "    <tr style=\"text-align: right;\">\n",
       "      <th></th>\n",
       "      <th>0</th>\n",
       "      <th>1</th>\n",
       "      <th>2</th>\n",
       "      <th>3</th>\n",
       "      <th>4</th>\n",
       "      <th>5</th>\n",
       "      <th>6</th>\n",
       "      <th>7</th>\n",
       "      <th>8</th>\n",
       "      <th>9</th>\n",
       "      <th>...</th>\n",
       "      <th>990</th>\n",
       "      <th>991</th>\n",
       "      <th>992</th>\n",
       "      <th>993</th>\n",
       "      <th>994</th>\n",
       "      <th>995</th>\n",
       "      <th>996</th>\n",
       "      <th>997</th>\n",
       "      <th>998</th>\n",
       "      <th>999</th>\n",
       "    </tr>\n",
       "  </thead>\n",
       "  <tbody>\n",
       "    <tr>\n",
       "      <th>0</th>\n",
       "      <td>0.0</td>\n",
       "      <td>0.0</td>\n",
       "      <td>0.0</td>\n",
       "      <td>0.0</td>\n",
       "      <td>0.0</td>\n",
       "      <td>0.0</td>\n",
       "      <td>0.0</td>\n",
       "      <td>0.0</td>\n",
       "      <td>0.0</td>\n",
       "      <td>0.0</td>\n",
       "      <td>...</td>\n",
       "      <td>0.0</td>\n",
       "      <td>0.0</td>\n",
       "      <td>0.0</td>\n",
       "      <td>0.0</td>\n",
       "      <td>0.0</td>\n",
       "      <td>0.0</td>\n",
       "      <td>0.0</td>\n",
       "      <td>0.0</td>\n",
       "      <td>0.0</td>\n",
       "      <td>0.0</td>\n",
       "    </tr>\n",
       "    <tr>\n",
       "      <th>1</th>\n",
       "      <td>0.0</td>\n",
       "      <td>0.0</td>\n",
       "      <td>0.0</td>\n",
       "      <td>0.0</td>\n",
       "      <td>0.0</td>\n",
       "      <td>0.0</td>\n",
       "      <td>0.0</td>\n",
       "      <td>0.0</td>\n",
       "      <td>0.0</td>\n",
       "      <td>0.0</td>\n",
       "      <td>...</td>\n",
       "      <td>0.0</td>\n",
       "      <td>0.0</td>\n",
       "      <td>0.0</td>\n",
       "      <td>0.0</td>\n",
       "      <td>0.0</td>\n",
       "      <td>0.0</td>\n",
       "      <td>0.0</td>\n",
       "      <td>0.0</td>\n",
       "      <td>0.0</td>\n",
       "      <td>0.0</td>\n",
       "    </tr>\n",
       "    <tr>\n",
       "      <th>2</th>\n",
       "      <td>0.0</td>\n",
       "      <td>0.0</td>\n",
       "      <td>0.0</td>\n",
       "      <td>0.0</td>\n",
       "      <td>0.0</td>\n",
       "      <td>0.0</td>\n",
       "      <td>0.0</td>\n",
       "      <td>0.0</td>\n",
       "      <td>0.0</td>\n",
       "      <td>0.0</td>\n",
       "      <td>...</td>\n",
       "      <td>0.0</td>\n",
       "      <td>0.0</td>\n",
       "      <td>0.0</td>\n",
       "      <td>0.0</td>\n",
       "      <td>0.0</td>\n",
       "      <td>0.0</td>\n",
       "      <td>0.0</td>\n",
       "      <td>0.0</td>\n",
       "      <td>0.0</td>\n",
       "      <td>0.0</td>\n",
       "    </tr>\n",
       "    <tr>\n",
       "      <th>3</th>\n",
       "      <td>0.0</td>\n",
       "      <td>0.0</td>\n",
       "      <td>0.0</td>\n",
       "      <td>0.0</td>\n",
       "      <td>0.0</td>\n",
       "      <td>0.0</td>\n",
       "      <td>0.0</td>\n",
       "      <td>0.0</td>\n",
       "      <td>0.0</td>\n",
       "      <td>0.0</td>\n",
       "      <td>...</td>\n",
       "      <td>0.0</td>\n",
       "      <td>0.0</td>\n",
       "      <td>0.0</td>\n",
       "      <td>0.0</td>\n",
       "      <td>0.0</td>\n",
       "      <td>0.0</td>\n",
       "      <td>0.0</td>\n",
       "      <td>0.0</td>\n",
       "      <td>0.0</td>\n",
       "      <td>0.0</td>\n",
       "    </tr>\n",
       "    <tr>\n",
       "      <th>4</th>\n",
       "      <td>0.0</td>\n",
       "      <td>0.0</td>\n",
       "      <td>0.0</td>\n",
       "      <td>0.0</td>\n",
       "      <td>0.0</td>\n",
       "      <td>0.0</td>\n",
       "      <td>0.0</td>\n",
       "      <td>0.0</td>\n",
       "      <td>0.0</td>\n",
       "      <td>0.0</td>\n",
       "      <td>...</td>\n",
       "      <td>0.0</td>\n",
       "      <td>0.0</td>\n",
       "      <td>0.0</td>\n",
       "      <td>0.0</td>\n",
       "      <td>0.0</td>\n",
       "      <td>0.0</td>\n",
       "      <td>0.0</td>\n",
       "      <td>0.0</td>\n",
       "      <td>0.0</td>\n",
       "      <td>0.0</td>\n",
       "    </tr>\n",
       "  </tbody>\n",
       "</table>\n",
       "<p>5 rows × 1000 columns</p>\n",
       "</div>"
      ],
      "text/plain": [
       "   0    1    2    3    4    5    6    7    8    9   ...   990  991  992  993  \\\n",
       "0  0.0  0.0  0.0  0.0  0.0  0.0  0.0  0.0  0.0  0.0 ...   0.0  0.0  0.0  0.0   \n",
       "1  0.0  0.0  0.0  0.0  0.0  0.0  0.0  0.0  0.0  0.0 ...   0.0  0.0  0.0  0.0   \n",
       "2  0.0  0.0  0.0  0.0  0.0  0.0  0.0  0.0  0.0  0.0 ...   0.0  0.0  0.0  0.0   \n",
       "3  0.0  0.0  0.0  0.0  0.0  0.0  0.0  0.0  0.0  0.0 ...   0.0  0.0  0.0  0.0   \n",
       "4  0.0  0.0  0.0  0.0  0.0  0.0  0.0  0.0  0.0  0.0 ...   0.0  0.0  0.0  0.0   \n",
       "\n",
       "   994  995  996  997  998  999  \n",
       "0  0.0  0.0  0.0  0.0  0.0  0.0  \n",
       "1  0.0  0.0  0.0  0.0  0.0  0.0  \n",
       "2  0.0  0.0  0.0  0.0  0.0  0.0  \n",
       "3  0.0  0.0  0.0  0.0  0.0  0.0  \n",
       "4  0.0  0.0  0.0  0.0  0.0  0.0  \n",
       "\n",
       "[5 rows x 1000 columns]"
      ]
     },
     "execution_count": 555,
     "metadata": {},
     "output_type": "execute_result"
    }
   ],
   "source": [
    "X_3.head()"
   ]
  },
  {
   "cell_type": "code",
   "execution_count": 556,
   "metadata": {},
   "outputs": [
    {
     "data": {
      "text/html": [
       "<div>\n",
       "<style scoped>\n",
       "    .dataframe tbody tr th:only-of-type {\n",
       "        vertical-align: middle;\n",
       "    }\n",
       "\n",
       "    .dataframe tbody tr th {\n",
       "        vertical-align: top;\n",
       "    }\n",
       "\n",
       "    .dataframe thead th {\n",
       "        text-align: right;\n",
       "    }\n",
       "</style>\n",
       "<table border=\"1\" class=\"dataframe\">\n",
       "  <thead>\n",
       "    <tr style=\"text-align: right;\">\n",
       "      <th></th>\n",
       "      <th>0</th>\n",
       "      <th>1</th>\n",
       "      <th>2</th>\n",
       "      <th>3</th>\n",
       "      <th>4</th>\n",
       "      <th>5</th>\n",
       "      <th>6</th>\n",
       "      <th>7</th>\n",
       "      <th>8</th>\n",
       "      <th>9</th>\n",
       "      <th>...</th>\n",
       "      <th>990</th>\n",
       "      <th>991</th>\n",
       "      <th>992</th>\n",
       "      <th>993</th>\n",
       "      <th>994</th>\n",
       "      <th>995</th>\n",
       "      <th>996</th>\n",
       "      <th>997</th>\n",
       "      <th>998</th>\n",
       "      <th>999</th>\n",
       "    </tr>\n",
       "  </thead>\n",
       "  <tbody>\n",
       "    <tr>\n",
       "      <th>0</th>\n",
       "      <td>0.0</td>\n",
       "      <td>0.0</td>\n",
       "      <td>0.0</td>\n",
       "      <td>0.0</td>\n",
       "      <td>0.0</td>\n",
       "      <td>0.0</td>\n",
       "      <td>0.0</td>\n",
       "      <td>0.0</td>\n",
       "      <td>0.0</td>\n",
       "      <td>0.0</td>\n",
       "      <td>...</td>\n",
       "      <td>0.0</td>\n",
       "      <td>0.0</td>\n",
       "      <td>0.0</td>\n",
       "      <td>0.0</td>\n",
       "      <td>0.0</td>\n",
       "      <td>0.0</td>\n",
       "      <td>0.0</td>\n",
       "      <td>0.0</td>\n",
       "      <td>0.0</td>\n",
       "      <td>0.0</td>\n",
       "    </tr>\n",
       "    <tr>\n",
       "      <th>1</th>\n",
       "      <td>0.0</td>\n",
       "      <td>0.0</td>\n",
       "      <td>0.0</td>\n",
       "      <td>0.0</td>\n",
       "      <td>0.0</td>\n",
       "      <td>0.0</td>\n",
       "      <td>0.0</td>\n",
       "      <td>0.0</td>\n",
       "      <td>0.0</td>\n",
       "      <td>0.0</td>\n",
       "      <td>...</td>\n",
       "      <td>0.0</td>\n",
       "      <td>0.0</td>\n",
       "      <td>0.0</td>\n",
       "      <td>0.0</td>\n",
       "      <td>0.0</td>\n",
       "      <td>0.0</td>\n",
       "      <td>0.0</td>\n",
       "      <td>0.0</td>\n",
       "      <td>0.0</td>\n",
       "      <td>0.0</td>\n",
       "    </tr>\n",
       "    <tr>\n",
       "      <th>2</th>\n",
       "      <td>0.0</td>\n",
       "      <td>0.0</td>\n",
       "      <td>0.0</td>\n",
       "      <td>0.0</td>\n",
       "      <td>0.0</td>\n",
       "      <td>0.0</td>\n",
       "      <td>0.0</td>\n",
       "      <td>0.0</td>\n",
       "      <td>0.0</td>\n",
       "      <td>0.0</td>\n",
       "      <td>...</td>\n",
       "      <td>0.0</td>\n",
       "      <td>0.0</td>\n",
       "      <td>0.0</td>\n",
       "      <td>0.0</td>\n",
       "      <td>0.0</td>\n",
       "      <td>0.0</td>\n",
       "      <td>0.0</td>\n",
       "      <td>0.0</td>\n",
       "      <td>0.0</td>\n",
       "      <td>0.0</td>\n",
       "    </tr>\n",
       "    <tr>\n",
       "      <th>3</th>\n",
       "      <td>0.0</td>\n",
       "      <td>0.0</td>\n",
       "      <td>0.0</td>\n",
       "      <td>0.0</td>\n",
       "      <td>0.0</td>\n",
       "      <td>0.0</td>\n",
       "      <td>0.0</td>\n",
       "      <td>0.0</td>\n",
       "      <td>0.0</td>\n",
       "      <td>0.0</td>\n",
       "      <td>...</td>\n",
       "      <td>0.0</td>\n",
       "      <td>0.0</td>\n",
       "      <td>0.0</td>\n",
       "      <td>0.0</td>\n",
       "      <td>0.0</td>\n",
       "      <td>0.0</td>\n",
       "      <td>0.0</td>\n",
       "      <td>0.0</td>\n",
       "      <td>0.0</td>\n",
       "      <td>0.0</td>\n",
       "    </tr>\n",
       "    <tr>\n",
       "      <th>4</th>\n",
       "      <td>0.0</td>\n",
       "      <td>0.0</td>\n",
       "      <td>0.0</td>\n",
       "      <td>0.0</td>\n",
       "      <td>0.0</td>\n",
       "      <td>0.0</td>\n",
       "      <td>0.0</td>\n",
       "      <td>0.0</td>\n",
       "      <td>0.0</td>\n",
       "      <td>0.0</td>\n",
       "      <td>...</td>\n",
       "      <td>0.0</td>\n",
       "      <td>0.0</td>\n",
       "      <td>0.0</td>\n",
       "      <td>0.0</td>\n",
       "      <td>0.0</td>\n",
       "      <td>0.0</td>\n",
       "      <td>0.0</td>\n",
       "      <td>0.0</td>\n",
       "      <td>0.0</td>\n",
       "      <td>0.0</td>\n",
       "    </tr>\n",
       "  </tbody>\n",
       "</table>\n",
       "<p>5 rows × 1000 columns</p>\n",
       "</div>"
      ],
      "text/plain": [
       "   0    1    2    3    4    5    6    7    8    9   ...   990  991  992  993  \\\n",
       "0  0.0  0.0  0.0  0.0  0.0  0.0  0.0  0.0  0.0  0.0 ...   0.0  0.0  0.0  0.0   \n",
       "1  0.0  0.0  0.0  0.0  0.0  0.0  0.0  0.0  0.0  0.0 ...   0.0  0.0  0.0  0.0   \n",
       "2  0.0  0.0  0.0  0.0  0.0  0.0  0.0  0.0  0.0  0.0 ...   0.0  0.0  0.0  0.0   \n",
       "3  0.0  0.0  0.0  0.0  0.0  0.0  0.0  0.0  0.0  0.0 ...   0.0  0.0  0.0  0.0   \n",
       "4  0.0  0.0  0.0  0.0  0.0  0.0  0.0  0.0  0.0  0.0 ...   0.0  0.0  0.0  0.0   \n",
       "\n",
       "   994  995  996  997  998  999  \n",
       "0  0.0  0.0  0.0  0.0  0.0  0.0  \n",
       "1  0.0  0.0  0.0  0.0  0.0  0.0  \n",
       "2  0.0  0.0  0.0  0.0  0.0  0.0  \n",
       "3  0.0  0.0  0.0  0.0  0.0  0.0  \n",
       "4  0.0  0.0  0.0  0.0  0.0  0.0  \n",
       "\n",
       "[5 rows x 1000 columns]"
      ]
     },
     "execution_count": 556,
     "metadata": {},
     "output_type": "execute_result"
    }
   ],
   "source": [
    "X_5.head()"
   ]
  },
  {
   "cell_type": "markdown",
   "metadata": {},
   "source": [
    "### Split Data"
   ]
  },
  {
   "cell_type": "code",
   "execution_count": 557,
   "metadata": {},
   "outputs": [],
   "source": [
    "X_train_3, X_test_3, y_train_3, y_test_3 =X_3[:588], X_3[589:], y_3[:588], y_3[589:]\n",
    "X_train_5, X_test_5, y_train_5, y_test_5 =X_5[:588], X_5[589:], y_5[:588], y_5[589:]"
   ]
  },
  {
   "cell_type": "markdown",
   "metadata": {},
   "source": [
    "### (f) Classification\n",
    "\n",
    "### i) Explain how prediction of rt(T) can be converted into a binary classification problem and convert the responses to binary labels.\n",
    "\n",
    "If we want to make it a binary problem then we could say that every data that a stock increased it's price its a Bullish action, and every time the price of a stock falls will be a bearish action. "
   ]
  },
  {
   "cell_type": "markdown",
   "metadata": {},
   "source": [
    "### Naive Bayes Clasiffier"
   ]
  },
  {
   "cell_type": "markdown",
   "metadata": {},
   "source": [
    "#### 3 days return Train"
   ]
  },
  {
   "cell_type": "code",
   "execution_count": 558,
   "metadata": {},
   "outputs": [
    {
     "name": "stdout",
     "output_type": "stream",
     "text": [
      "Confusion Matrix\n",
      "[[154  42]\n",
      " [  0 392]]\n"
     ]
    },
    {
     "data": {
      "image/png": "[encoded data removed]",
      "text/plain": [
       "<Figure size 288x288 with 2 Axes>"
      ]
     },
     "metadata": {
      "needs_background": "light"
     },
     "output_type": "display_data"
    },
    {
     "name": "stdout",
     "output_type": "stream",
     "text": [
      "Accurancy= 92.85714285714286 %\n",
      "AUC= 89.28571428571428 %\n",
      "Recall= 100.0 %\n",
      "Precision= 90.32258064516128 %\n",
      "F1= 94.91525423728812 %\n"
     ]
    }
   ],
   "source": [
    "#3 days Return\n",
    "##########\n",
    "X_train=X_train_3\n",
    "y_train=y_train_3\n",
    "\n",
    "X_test=X_train_3\n",
    "y_test=y_train_3\n",
    "##########\n",
    "\n",
    "clf = GaussianNB()\n",
    "clf.fit(X_train, np.ravel(y_train))\n",
    "\n",
    "y_pred = clf.predict(X_test)\n",
    "cm=confusion_matrix(y_test, y_pred)\n",
    "y_score = clf.score(X_test, y_test)\n",
    "\n",
    "fpr, tpr, thresholds = metrics.roc_curve(y_test, y_pred)\n",
    "auc=metrics.auc(fpr, tpr)\n",
    "recall=recall_score(y_test,y_pred)\n",
    "precision= precision_score(y_test,y_pred)\n",
    "f1 = f1_score(y_test,y_pred)\n",
    "\n",
    "print(\"Confusion Matrix\")\n",
    "print(cm)\n",
    "# Show confusion matrix in a separate window\n",
    "plt.matshow(cm)\n",
    "plt.title('Confusion matrix')\n",
    "plt.colorbar()\n",
    "plt.ylabel('True label')\n",
    "plt.xlabel('Predicted label')\n",
    "plt.show()\n",
    "\n",
    "print( \"Accurancy=\", clf.score(X_test, y_test) *100, \"%\")\n",
    "print(\"AUC=\",auc*100, \"%\")\n",
    "print(\"Recall=\",recall*100, \"%\")\n",
    "print(\"Precision=\",precision*100, \"%\")\n",
    "print(\"F1=\",f1*100, \"%\")"
   ]
  },
  {
   "cell_type": "markdown",
   "metadata": {},
   "source": [
    "#### 3 Days Return Test"
   ]
  },
  {
   "cell_type": "code",
   "execution_count": 559,
   "metadata": {
    "scrolled": true
   },
   "outputs": [
    {
     "name": "stdout",
     "output_type": "stream",
     "text": [
      "Confusion Matrix\n",
      "[[ 39  43]\n",
      " [ 20 132]]\n"
     ]
    },
    {
     "data": {
      "image/png": "[encoded data removed]",
      "text/plain": [
       "<Figure size 288x288 with 2 Axes>"
      ]
     },
     "metadata": {
      "needs_background": "light"
     },
     "output_type": "display_data"
    },
    {
     "name": "stdout",
     "output_type": "stream",
     "text": [
      "Accurancy= 73.07692307692307 %\n",
      "AUC= 67.201540436457 %\n",
      "Recall= 86.8421052631579 %\n",
      "Precision= 75.42857142857143 %\n",
      "F1= 80.73394495412846 %\n"
     ]
    }
   ],
   "source": [
    "#3 days Return\n",
    "##########\n",
    "X_train=X_train_3\n",
    "y_train=y_train_3\n",
    "\n",
    "X_test=X_test_3\n",
    "y_test=y_test_3\n",
    "##########\n",
    "\n",
    "clf = GaussianNB()\n",
    "clf.fit(X_train, np.ravel(y_train))\n",
    "\n",
    "y_pred = clf.predict(X_test)\n",
    "cm=confusion_matrix(y_test, y_pred)\n",
    "y_score = clf.score(X_test, y_test)\n",
    "\n",
    "fpr, tpr, thresholds = metrics.roc_curve(y_test, y_pred)\n",
    "auc=metrics.auc(fpr, tpr)\n",
    "recall=recall_score(y_test,y_pred)\n",
    "precision= precision_score(y_test,y_pred)\n",
    "f1 = f1_score(y_test,y_pred)\n",
    "\n",
    "print(\"Confusion Matrix\")\n",
    "print(cm)\n",
    "# Show confusion matrix in a separate window\n",
    "plt.matshow(cm)\n",
    "plt.title('Confusion matrix')\n",
    "plt.colorbar()\n",
    "plt.ylabel('True label')\n",
    "plt.xlabel('Predicted label')\n",
    "plt.show()\n",
    "\n",
    "print( \"Accurancy=\", clf.score(X_test, y_test) *100, \"%\")\n",
    "print(\"AUC=\",auc*100, \"%\")\n",
    "print(\"Recall=\",recall*100, \"%\")\n",
    "print(\"Precision=\",precision*100, \"%\")\n",
    "print(\"F1=\",f1*100, \"%\")"
   ]
  },
  {
   "cell_type": "markdown",
   "metadata": {},
   "source": [
    "#### 5 Days Return Training data"
   ]
  },
  {
   "cell_type": "code",
   "execution_count": 560,
   "metadata": {},
   "outputs": [
    {
     "name": "stdout",
     "output_type": "stream",
     "text": [
      "Confusion Matrix\n",
      "[[170  63]\n",
      " [  0 355]]\n"
     ]
    },
    {
     "data": {
      "image/png": "[encoded data removed]",
      "text/plain": [
       "<Figure size 288x288 with 2 Axes>"
      ]
     },
     "metadata": {
      "needs_background": "light"
     },
     "output_type": "display_data"
    },
    {
     "name": "stdout",
     "output_type": "stream",
     "text": [
      "Accurancy= 89.28571428571429 %\n",
      "AUC= 86.48068669527898 %\n",
      "Recall= 100.0 %\n",
      "Precision= 84.92822966507177 %\n",
      "F1= 91.84993531694697 %\n"
     ]
    }
   ],
   "source": [
    "#5 days Return\n",
    "##########\n",
    "X_train=X_train_5\n",
    "y_train=y_train_5\n",
    "\n",
    "X_test=X_train_5\n",
    "y_test=y_train_5\n",
    "##########\n",
    "\n",
    "clf = GaussianNB()\n",
    "clf.fit(X_train, np.ravel(y_train))\n",
    "\n",
    "y_pred = clf.predict(X_test)\n",
    "cm=confusion_matrix(y_test, y_pred)\n",
    "y_score = clf.score(X_test, y_test)\n",
    "\n",
    "fpr, tpr, thresholds = metrics.roc_curve(y_test, y_pred)\n",
    "auc=metrics.auc(fpr, tpr)\n",
    "recall=recall_score(y_test,y_pred)\n",
    "precision= precision_score(y_test,y_pred)\n",
    "f1 = f1_score(y_test,y_pred)\n",
    "\n",
    "print(\"Confusion Matrix\")\n",
    "print(cm)\n",
    "# Show confusion matrix in a separate window\n",
    "plt.matshow(cm)\n",
    "plt.title('Confusion matrix')\n",
    "plt.colorbar()\n",
    "plt.ylabel('True label')\n",
    "plt.xlabel('Predicted label')\n",
    "plt.show()\n",
    "\n",
    "print( \"Accurancy=\", clf.score(X_test, y_test) *100, \"%\")\n",
    "print(\"AUC=\",auc*100, \"%\")\n",
    "print(\"Recall=\",recall*100, \"%\")\n",
    "print(\"Precision=\",precision*100, \"%\")\n",
    "print(\"F1=\",f1*100, \"%\")"
   ]
  },
  {
   "cell_type": "markdown",
   "metadata": {},
   "source": [
    "#### 5 Days return Test data"
   ]
  },
  {
   "cell_type": "code",
   "execution_count": 561,
   "metadata": {},
   "outputs": [
    {
     "name": "stdout",
     "output_type": "stream",
     "text": [
      "Confusion Matrix\n",
      "[[ 46  39]\n",
      " [ 19 130]]\n"
     ]
    },
    {
     "data": {
      "image/png": "[encoded data removed]",
      "text/plain": [
       "<Figure size 288x288 with 2 Axes>"
      ]
     },
     "metadata": {
      "needs_background": "light"
     },
     "output_type": "display_data"
    },
    {
     "name": "stdout",
     "output_type": "stream",
     "text": [
      "Accurancy= 75.21367521367522 %\n",
      "AUC= 70.68298460323726 %\n",
      "Recall= 87.24832214765101 %\n",
      "Precision= 76.92307692307693 %\n",
      "F1= 81.76100628930818 %\n"
     ]
    }
   ],
   "source": [
    "#5 days Return\n",
    "##########\n",
    "X_train=X_train_5\n",
    "y_train=y_train_5\n",
    "\n",
    "X_test=X_test_5\n",
    "y_test=y_test_5\n",
    "##########\n",
    "\n",
    "clf = GaussianNB()\n",
    "clf.fit(X_train, np.ravel(y_train))\n",
    "\n",
    "y_pred = clf.predict(X_test)\n",
    "cm=confusion_matrix(y_test, y_pred)\n",
    "y_score = clf.score(X_test, y_test)\n",
    "\n",
    "fpr, tpr, thresholds = metrics.roc_curve(y_test, y_pred)\n",
    "auc=metrics.auc(fpr, tpr)\n",
    "recall=recall_score(y_test,y_pred)\n",
    "precision= precision_score(y_test,y_pred)\n",
    "f1 = f1_score(y_test,y_pred)\n",
    "\n",
    "print(\"Confusion Matrix\")\n",
    "print(cm)\n",
    "# Show confusion matrix in a separate window\n",
    "plt.matshow(cm)\n",
    "plt.title('Confusion matrix')\n",
    "plt.colorbar()\n",
    "plt.ylabel('True label')\n",
    "plt.xlabel('Predicted label')\n",
    "plt.show()\n",
    "\n",
    "print( \"Accurancy=\", clf.score(X_test, y_test) *100, \"%\")\n",
    "print(\"AUC=\",auc*100, \"%\")\n",
    "print(\"Recall=\",recall*100, \"%\")\n",
    "print(\"Precision=\",precision*100, \"%\")\n",
    "print(\"F1=\",f1*100, \"%\")"
   ]
  },
  {
   "cell_type": "markdown",
   "metadata": {},
   "source": [
    "#### Logistic Regression"
   ]
  },
  {
   "cell_type": "markdown",
   "metadata": {},
   "source": [
    "#### 3 days return training"
   ]
  },
  {
   "cell_type": "code",
   "execution_count": 562,
   "metadata": {},
   "outputs": [
    {
     "name": "stdout",
     "output_type": "stream",
     "text": [
      "Confusion Matrix\n",
      "[[  5 191]\n",
      " [  0 392]]\n"
     ]
    },
    {
     "data": {
      "image/png": "[encoded data removed]",
      "text/plain": [
       "<Figure size 288x288 with 2 Axes>"
      ]
     },
     "metadata": {
      "needs_background": "light"
     },
     "output_type": "display_data"
    },
    {
     "name": "stdout",
     "output_type": "stream",
     "text": [
      "Accurancy= 67.51700680272108 %\n",
      "AUC= 51.275510204081634 %\n",
      "Recall= 100.0 %\n",
      "Precision= 67.23842195540308 %\n",
      "F1= 80.41025641025641 %\n"
     ]
    }
   ],
   "source": [
    "#3 days Return\n",
    "\n",
    "##########\n",
    "X_train=X_train_3\n",
    "y_train=y_train_3\n",
    "\n",
    "X_test=X_train_3\n",
    "y_test=y_train_3\n",
    "##########\n",
    "\n",
    "model = LogisticRegression(random_state=0, solver='lbfgs')\n",
    "clf = RFE(model, 100, step=1)\n",
    "clf = clf.fit(X_train, np.ravel(y_train))\n",
    "\n",
    "y_pred = clf.predict(X_test)\n",
    "cm=confusion_matrix(y_test, y_pred)\n",
    "y_score = clf.score(X_test, y_test)\n",
    "\n",
    "fpr, tpr, thresholds = metrics.roc_curve(y_test, y_pred)\n",
    "auc=metrics.auc(fpr, tpr)\n",
    "recall=recall_score(y_test,y_pred)\n",
    "precision= precision_score(y_test,y_pred)\n",
    "f1 = f1_score(y_test,y_pred)\n",
    "\n",
    "print(\"Confusion Matrix\")\n",
    "print(cm)\n",
    "# Show confusion matrix in a separate window\n",
    "plt.matshow(cm)\n",
    "plt.title('Confusion matrix')\n",
    "plt.colorbar()\n",
    "plt.ylabel('True label')\n",
    "plt.xlabel('Predicted label')\n",
    "plt.show()\n",
    "\n",
    "print( \"Accurancy=\", clf.score(X_test, y_test) *100, \"%\")\n",
    "print(\"AUC=\",auc*100, \"%\")\n",
    "print(\"Recall=\",recall*100, \"%\")\n",
    "print(\"Precision=\",precision*100, \"%\")\n",
    "print(\"F1=\",f1*100, \"%\")"
   ]
  },
  {
   "cell_type": "markdown",
   "metadata": {},
   "source": [
    "#### 3 days testing"
   ]
  },
  {
   "cell_type": "code",
   "execution_count": 563,
   "metadata": {},
   "outputs": [
    {
     "name": "stdout",
     "output_type": "stream",
     "text": [
      "Confusion Matrix\n",
      "[[  0  82]\n",
      " [  2 150]]\n"
     ]
    },
    {
     "data": {
      "image/png": "[encoded data removed]",
      "text/plain": [
       "<Figure size 288x288 with 2 Axes>"
      ]
     },
     "metadata": {
      "needs_background": "light"
     },
     "output_type": "display_data"
    },
    {
     "name": "stdout",
     "output_type": "stream",
     "text": [
      "Accurancy= 64.1025641025641 %\n",
      "AUC= 49.34210526315789 %\n",
      "Recall= 98.68421052631578 %\n",
      "Precision= 64.65517241379311 %\n",
      "F1= 78.125 %\n"
     ]
    }
   ],
   "source": [
    "#3 days Return\n",
    "\n",
    "##########\n",
    "X_train=X_train_3\n",
    "y_train=y_train_3\n",
    "\n",
    "X_test=X_test_3\n",
    "y_test=y_test_3\n",
    "##########\n",
    "\n",
    "model = LogisticRegression(random_state=0, solver='lbfgs')\n",
    "clf = RFE(model, 300, step=1)\n",
    "clf = clf.fit(X_train, np.ravel(y_train))\n",
    "\n",
    "y_pred = clf.predict(X_test)\n",
    "cm=confusion_matrix(y_test, y_pred)\n",
    "y_score = clf.score(X_test, y_test)\n",
    "\n",
    "fpr, tpr, thresholds = metrics.roc_curve(y_test, y_pred)\n",
    "auc=metrics.auc(fpr, tpr)\n",
    "recall=recall_score(y_test,y_pred)\n",
    "precision= precision_score(y_test,y_pred)\n",
    "f1 = f1_score(y_test,y_pred)\n",
    "\n",
    "print(\"Confusion Matrix\")\n",
    "print(cm)\n",
    "# Show confusion matrix in a separate window\n",
    "plt.matshow(cm)\n",
    "plt.title('Confusion matrix')\n",
    "plt.colorbar()\n",
    "plt.ylabel('True label')\n",
    "plt.xlabel('Predicted label')\n",
    "plt.show()\n",
    "\n",
    "print( \"Accurancy=\", clf.score(X_test, y_test) *100, \"%\")\n",
    "print(\"AUC=\",auc*100, \"%\")\n",
    "print(\"Recall=\",recall*100, \"%\")\n",
    "print(\"Precision=\",precision*100, \"%\")\n",
    "print(\"F1=\",f1*100, \"%\")"
   ]
  },
  {
   "cell_type": "markdown",
   "metadata": {},
   "source": [
    "#### 5 days return training"
   ]
  },
  {
   "cell_type": "code",
   "execution_count": 564,
   "metadata": {},
   "outputs": [
    {
     "name": "stdout",
     "output_type": "stream",
     "text": [
      "Confusion Matrix\n",
      "[[ 41 192]\n",
      " [  2 353]]\n"
     ]
    },
    {
     "data": {
      "image/png": "[encoded data removed]",
      "text/plain": [
       "<Figure size 288x288 with 2 Axes>"
      ]
     },
     "metadata": {
      "needs_background": "light"
     },
     "output_type": "display_data"
    },
    {
     "name": "stdout",
     "output_type": "stream",
     "text": [
      "Accurancy= 67.00680272108843 %\n",
      "AUC= 58.5165931209575 %\n",
      "Recall= 99.43661971830986 %\n",
      "Precision= 64.77064220183486 %\n",
      "F1= 78.44444444444444 %\n"
     ]
    }
   ],
   "source": [
    "#5 days Return\n",
    "\n",
    "##########\n",
    "X_train=X_train_5\n",
    "y_train=y_train_5\n",
    "\n",
    "X_test=X_train_5\n",
    "y_test=y_train_5\n",
    "##########\n",
    "\n",
    "model = LogisticRegression(random_state=0, solver='lbfgs')\n",
    "clf = RFE(model, 300, step=1)\n",
    "clf = clf.fit(X_train, np.ravel(y_train))\n",
    "\n",
    "y_pred = clf.predict(X_test)\n",
    "cm=confusion_matrix(y_test, y_pred)\n",
    "y_score = clf.score(X_test, y_test)\n",
    "\n",
    "fpr, tpr, thresholds = metrics.roc_curve(y_test, y_pred)\n",
    "auc=metrics.auc(fpr, tpr)\n",
    "recall=recall_score(y_test,y_pred)\n",
    "precision= precision_score(y_test,y_pred)\n",
    "f1 = f1_score(y_test,y_pred)\n",
    "\n",
    "print(\"Confusion Matrix\")\n",
    "print(cm)\n",
    "# Show confusion matrix in a separate window\n",
    "plt.matshow(cm)\n",
    "plt.title('Confusion matrix')\n",
    "plt.colorbar()\n",
    "plt.ylabel('True label')\n",
    "plt.xlabel('Predicted label')\n",
    "plt.show()\n",
    "\n",
    "print( \"Accurancy=\", clf.score(X_test, y_test) *100, \"%\")\n",
    "print(\"AUC=\",auc*100, \"%\")\n",
    "print(\"Recall=\",recall*100, \"%\")\n",
    "print(\"Precision=\",precision*100, \"%\")\n",
    "print(\"F1=\",f1*100, \"%\")"
   ]
  },
  {
   "cell_type": "markdown",
   "metadata": {},
   "source": [
    "#### 5 days return test"
   ]
  },
  {
   "cell_type": "code",
   "execution_count": 565,
   "metadata": {},
   "outputs": [
    {
     "name": "stdout",
     "output_type": "stream",
     "text": [
      "Confusion Matrix\n",
      "[[  1  84]\n",
      " [  0 149]]\n"
     ]
    },
    {
     "data": {
      "image/png": "[encoded data removed]",
      "text/plain": [
       "<Figure size 288x288 with 2 Axes>"
      ]
     },
     "metadata": {
      "needs_background": "light"
     },
     "output_type": "display_data"
    },
    {
     "name": "stdout",
     "output_type": "stream",
     "text": [
      "Accurancy= 64.1025641025641 %\n",
      "AUC= 50.588235294117645 %\n",
      "Recall= 100.0 %\n",
      "Precision= 63.94849785407726 %\n",
      "F1= 78.01047120418848 %\n"
     ]
    }
   ],
   "source": [
    "#5 days Return\n",
    "\n",
    "##########\n",
    "X_train=X_train_5\n",
    "y_train=y_train_5\n",
    "\n",
    "X_test=X_test_5\n",
    "y_test=y_test_5\n",
    "##########\n",
    "\n",
    "model = LogisticRegression(random_state=0, solver='lbfgs')\n",
    "clf = RFE(model, 300, step=1)\n",
    "clf = clf.fit(X_train, np.ravel(y_train))\n",
    "\n",
    "y_pred = clf.predict(X_test)\n",
    "cm=confusion_matrix(y_test, y_pred)\n",
    "y_score = clf.score(X_test, y_test)\n",
    "\n",
    "fpr, tpr, thresholds = metrics.roc_curve(y_test, y_pred)\n",
    "auc=metrics.auc(fpr, tpr)\n",
    "recall=recall_score(y_test,y_pred)\n",
    "precision= precision_score(y_test,y_pred)\n",
    "f1 = f1_score(y_test,y_pred)\n",
    "\n",
    "print(\"Confusion Matrix\")\n",
    "print(cm)\n",
    "# Show confusion matrix in a separate window\n",
    "plt.matshow(cm)\n",
    "plt.title('Confusion matrix')\n",
    "plt.colorbar()\n",
    "plt.ylabel('True label')\n",
    "plt.xlabel('Predicted label')\n",
    "plt.show()\n",
    "\n",
    "print( \"Accurancy=\", clf.score(X_test, y_test) *100, \"%\")\n",
    "print(\"AUC=\",auc*100, \"%\")\n",
    "print(\"Recall=\",recall*100, \"%\")\n",
    "print(\"Precision=\",precision*100, \"%\")\n",
    "print(\"F1=\",f1*100, \"%\")"
   ]
  },
  {
   "cell_type": "markdown",
   "metadata": {},
   "source": [
    "### Logistic with 5 Fold CV and L1 Penalty"
   ]
  },
  {
   "cell_type": "markdown",
   "metadata": {},
   "source": [
    "### 3 days return training "
   ]
  },
  {
   "cell_type": "code",
   "execution_count": 566,
   "metadata": {},
   "outputs": [
    {
     "name": "stdout",
     "output_type": "stream",
     "text": [
      "Confusion Matrix\n",
      "[[164  32]\n",
      " [  0 392]]\n"
     ]
    },
    {
     "data": {
      "image/png": "[encoded data removed]",
      "text/plain": [
       "<Figure size 288x288 with 2 Axes>"
      ]
     },
     "metadata": {
      "needs_background": "light"
     },
     "output_type": "display_data"
    },
    {
     "name": "stdout",
     "output_type": "stream",
     "text": [
      "Accurancy= 94.5578231292517 %\n",
      "AUC= 91.83673469387756 %\n",
      "Recall= 100.0 %\n",
      "Precision= 92.45283018867924 %\n",
      "F1= 96.07843137254902 %\n"
     ]
    }
   ],
   "source": [
    "##########\n",
    "X_train=X_train_3\n",
    "y_train=y_train_3\n",
    "\n",
    "X_test=X_train_3\n",
    "y_test=y_train_3\n",
    "##########\n",
    "\n",
    "clf = LogisticRegressionCV(solver=\"liblinear\",cv=5, random_state=0, penalty=\"l1\")\n",
    "clf = clf.fit(X_train, np.ravel(y_train))\n",
    "\n",
    "y_pred = clf.predict(X_test)\n",
    "cm=confusion_matrix(y_test, y_pred)\n",
    "y_score = clf.score(X_test, y_test)\n",
    "\n",
    "fpr, tpr, thresholds = metrics.roc_curve(y_test, y_pred)\n",
    "auc=metrics.auc(fpr, tpr)\n",
    "recall=recall_score(y_test,y_pred)\n",
    "precision= precision_score(y_test,y_pred)\n",
    "f1 = f1_score(y_test,y_pred)\n",
    "\n",
    "print(\"Confusion Matrix\")\n",
    "print(cm)\n",
    "# Show confusion matrix in a separate window\n",
    "plt.matshow(cm)\n",
    "plt.title('Confusion matrix')\n",
    "plt.colorbar()\n",
    "plt.ylabel('True label')\n",
    "plt.xlabel('Predicted label')\n",
    "plt.show()\n",
    "\n",
    "print( \"Accurancy=\", clf.score(X_test, y_test) *100, \"%\")\n",
    "print(\"AUC=\",auc*100, \"%\")\n",
    "print(\"Recall=\",recall*100, \"%\")\n",
    "print(\"Precision=\",precision*100, \"%\")\n",
    "print(\"F1=\",f1*100, \"%\")"
   ]
  },
  {
   "cell_type": "markdown",
   "metadata": {},
   "source": [
    "### 3 days return test"
   ]
  },
  {
   "cell_type": "code",
   "execution_count": 567,
   "metadata": {},
   "outputs": [
    {
     "name": "stdout",
     "output_type": "stream",
     "text": [
      "Confusion Matrix\n",
      "[[ 40  42]\n",
      " [ 30 122]]\n"
     ]
    },
    {
     "data": {
      "image/png": "[encoded data removed]",
      "text/plain": [
       "<Figure size 288x288 with 2 Axes>"
      ]
     },
     "metadata": {
      "needs_background": "light"
     },
     "output_type": "display_data"
    },
    {
     "name": "stdout",
     "output_type": "stream",
     "text": [
      "Accurancy= 69.23076923076923 %\n",
      "AUC= 64.52182284980745 %\n",
      "Recall= 80.26315789473685 %\n",
      "Precision= 74.39024390243902 %\n",
      "F1= 77.21518987341773 %\n"
     ]
    }
   ],
   "source": [
    "##########\n",
    "X_train=X_train_3\n",
    "y_train=y_train_3\n",
    "\n",
    "X_test=X_test_3\n",
    "y_test=y_test_3\n",
    "##########\n",
    "\n",
    "clf = LogisticRegressionCV(solver=\"liblinear\",cv=5, random_state=0, penalty=\"l1\")\n",
    "clf = clf.fit(X_train, np.ravel(y_train))\n",
    "\n",
    "y_pred = clf.predict(X_test)\n",
    "cm=confusion_matrix(y_test, y_pred)\n",
    "y_score = clf.score(X_test, y_test)\n",
    "\n",
    "fpr, tpr, thresholds = metrics.roc_curve(y_test, y_pred)\n",
    "auc=metrics.auc(fpr, tpr)\n",
    "recall=recall_score(y_test,y_pred)\n",
    "precision= precision_score(y_test,y_pred)\n",
    "f1 = f1_score(y_test,y_pred)\n",
    "\n",
    "print(\"Confusion Matrix\")\n",
    "print(cm)\n",
    "# Show confusion matrix in a separate window\n",
    "plt.matshow(cm)\n",
    "plt.title('Confusion matrix')\n",
    "plt.colorbar()\n",
    "plt.ylabel('True label')\n",
    "plt.xlabel('Predicted label')\n",
    "plt.show()\n",
    "\n",
    "print( \"Accurancy=\", clf.score(X_test, y_test) *100, \"%\")\n",
    "print(\"AUC=\",auc*100, \"%\")\n",
    "print(\"Recall=\",recall*100, \"%\")\n",
    "print(\"Precision=\",precision*100, \"%\")\n",
    "print(\"F1=\",f1*100, \"%\")"
   ]
  },
  {
   "cell_type": "markdown",
   "metadata": {},
   "source": [
    "### 5 days return train"
   ]
  },
  {
   "cell_type": "code",
   "execution_count": 568,
   "metadata": {},
   "outputs": [
    {
     "name": "stdout",
     "output_type": "stream",
     "text": [
      "Confusion Matrix\n",
      "[[193  40]\n",
      " [  2 353]]\n"
     ]
    },
    {
     "data": {
      "image/png": "[encoded data removed]",
      "text/plain": [
       "<Figure size 288x288 with 2 Axes>"
      ]
     },
     "metadata": {
      "needs_background": "light"
     },
     "output_type": "display_data"
    },
    {
     "name": "stdout",
     "output_type": "stream",
     "text": [
      "Accurancy= 92.85714285714286 %\n",
      "AUC= 91.13461887203046 %\n",
      "Recall= 99.43661971830986 %\n",
      "Precision= 89.82188295165395 %\n",
      "F1= 94.38502673796792 %\n"
     ]
    }
   ],
   "source": [
    "##########\n",
    "X_train=X_train_5\n",
    "y_train=y_train_5\n",
    "\n",
    "X_test=X_train_5\n",
    "y_test=y_train_5\n",
    "##########\n",
    "\n",
    "clf = LogisticRegressionCV(solver=\"liblinear\",cv=5, random_state=0, penalty=\"l1\")\n",
    "clf = clf.fit(X_train, np.ravel(y_train))\n",
    "\n",
    "y_pred = clf.predict(X_test)\n",
    "cm=confusion_matrix(y_test, y_pred)\n",
    "y_score = clf.score(X_test, y_test)\n",
    "\n",
    "fpr, tpr, thresholds = metrics.roc_curve(y_test, y_pred)\n",
    "auc=metrics.auc(fpr, tpr)\n",
    "recall=recall_score(y_test,y_pred)\n",
    "precision= precision_score(y_test,y_pred)\n",
    "f1 = f1_score(y_test,y_pred)\n",
    "\n",
    "print(\"Confusion Matrix\")\n",
    "print(cm)\n",
    "# Show confusion matrix in a separate window\n",
    "plt.matshow(cm)\n",
    "plt.title('Confusion matrix')\n",
    "plt.colorbar()\n",
    "plt.ylabel('True label')\n",
    "plt.xlabel('Predicted label')\n",
    "plt.show()\n",
    "\n",
    "print( \"Accurancy=\", clf.score(X_test, y_test) *100, \"%\")\n",
    "print(\"AUC=\",auc*100, \"%\")\n",
    "print(\"Recall=\",recall*100, \"%\")\n",
    "print(\"Precision=\",precision*100, \"%\")\n",
    "print(\"F1=\",f1*100, \"%\")"
   ]
  },
  {
   "cell_type": "markdown",
   "metadata": {},
   "source": [
    "#### 5 days return test"
   ]
  },
  {
   "cell_type": "code",
   "execution_count": 569,
   "metadata": {},
   "outputs": [
    {
     "name": "stdout",
     "output_type": "stream",
     "text": [
      "Confusion Matrix\n",
      "[[ 31  54]\n",
      " [ 25 124]]\n"
     ]
    },
    {
     "data": {
      "image/png": "[encoded data removed]",
      "text/plain": [
       "<Figure size 288x288 with 2 Axes>"
      ]
     },
     "metadata": {
      "needs_background": "light"
     },
     "output_type": "display_data"
    },
    {
     "name": "stdout",
     "output_type": "stream",
     "text": [
      "Accurancy= 66.23931623931624 %\n",
      "AUC= 59.846032372680625 %\n",
      "Recall= 83.22147651006712 %\n",
      "Precision= 69.66292134831461 %\n",
      "F1= 75.84097859327218 %\n"
     ]
    }
   ],
   "source": [
    "##########\n",
    "X_train=X_train_5\n",
    "y_train=y_train_5\n",
    "\n",
    "X_test=X_test_5\n",
    "y_test=y_test_5\n",
    "##########\n",
    "\n",
    "clf = LogisticRegressionCV(solver=\"liblinear\",cv=5, random_state=0, penalty=\"l1\")\n",
    "clf = clf.fit(X_train, np.ravel(y_train))\n",
    "\n",
    "y_pred = clf.predict(X_test)\n",
    "cm=confusion_matrix(y_test, y_pred)\n",
    "y_score = clf.score(X_test, y_test)\n",
    "\n",
    "fpr, tpr, thresholds = metrics.roc_curve(y_test, y_pred)\n",
    "auc=metrics.auc(fpr, tpr)\n",
    "recall=recall_score(y_test,y_pred)\n",
    "precision= precision_score(y_test,y_pred)\n",
    "f1 = f1_score(y_test,y_pred)\n",
    "\n",
    "print(\"Confusion Matrix\")\n",
    "print(cm)\n",
    "# Show confusion matrix in a separate window\n",
    "plt.matshow(cm)\n",
    "plt.title('Confusion matrix')\n",
    "plt.colorbar()\n",
    "plt.ylabel('True label')\n",
    "plt.xlabel('Predicted label')\n",
    "plt.show()\n",
    "\n",
    "print( \"Accurancy=\", clf.score(X_test, y_test) *100, \"%\")\n",
    "print(\"AUC=\",auc*100, \"%\")\n",
    "print(\"Recall=\",recall*100, \"%\")\n",
    "print(\"Precision=\",precision*100, \"%\")\n",
    "print(\"F1=\",f1*100, \"%\")"
   ]
  },
  {
   "cell_type": "code",
   "execution_count": null,
   "metadata": {},
   "outputs": [],
   "source": []
  }
 ],
 "metadata": {
  "kernelspec": {
   "display_name": "Python 3",
   "language": "python",
   "name": "python3"
  },
  "language_info": {
   "codemirror_mode": {
    "name": "ipython",
    "version": 3
   },
   "file_extension": ".py",
   "mimetype": "text/x-python",
   "name": "python",
   "nbconvert_exporter": "python",
   "pygments_lexer": "ipython3",
   "version": "3.7.1"
  }
 },
 "nbformat": 4,
 "nbformat_minor": 2
}
